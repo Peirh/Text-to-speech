{
 "cells": [
  {
   "cell_type": "code",
   "execution_count": 2,
   "metadata": {},
   "outputs": [],
   "source": [
    "from gtts import gTTS\n"
   ]
  },
  {
   "cell_type": "code",
   "execution_count": 228,
   "metadata": {},
   "outputs": [],
   "source": [
    "text = \"\"\"\n",
    "khanggar thesent hujaur.\n",
    "gi-yam thelen-fra jayaathu hing enfer, borte-chino ee-fishra.\n",
    "gergei yant, khoa maral ee-fishra.\n",
    "thenggis khethulfok ye-fishra.\n",
    "onan alant kasho-fo, burkhan khaldun-fo, noonthuklafok hing enfer,\n",
    "bathachikhan ee-fishra.\n",
    "\n",
    "\"\"\"\n",
    "\n",
    "tts = gTTS(text, lang='en',tld='co.in')\n",
    "tts.save('buei.mp3')"
   ]
  },
  {
   "cell_type": "code",
   "execution_count": 198,
   "metadata": {},
   "outputs": [],
   "source": [
    "text = \"\"\"\n",
    "na maalik by-yau-dai, yadafok yabuf. wa dent mika-fra na-fo yule, na wo jain-eekent ei-fo yule!\n",
    "\n",
    "bylf-task, ey sainhi-gai buay yotah isht saw-gaf.\n",
    "\n",
    "fukeen fukeen-gaf.\n",
    "nant sinhi eynt if.\n",
    "\n",
    "wo namha ba'atur if.\n",
    "baras kashaur sang-hor if.\n",
    "wa neen-hee if zi hoonnoomook. ock wo new-hee if zi buay. \n",
    "\n",
    "na ont khienf.\n",
    "\n",
    "\n",
    "\"\"\"\n",
    "\n",
    "tts = gTTS(text, lang='en',tld='co.in')\n",
    "tts.save('buei2.mp3')"
   ]
  },
  {
   "cell_type": "code",
   "execution_count": 66,
   "metadata": {},
   "outputs": [],
   "source": [
    "text = \"\"\"hua nin-gi if zi junnumuk. ok wo \n",
    "\"\"\"\n",
    "\n",
    "tts = gTTS(text, lang='es',tld='es')\n",
    "tts.save('buei.mp3')"
   ]
  },
  {
   "cell_type": "code",
   "execution_count": 5,
   "metadata": {},
   "outputs": [],
   "source": [
    "text = \"\"\"\n",
    "This is a story spanning over seventy years, covering four generations of Koreans. \n",
    "\"고생 (hardship), a woman’s lot is to suffer“.\n",
    "\n",
    "From the Japanese occupation of the Korean Peninsula in the last century to the late 1980s in Osaka, Japan. In an exclusionary Japanese society, enduring poverty and injustice becomes the fate of Korean immigrants. In addition to the challenges of being outsiders and the struggles of social class, female immigrants also face the shackles of potential sexual exploitation and gender bias.\n",
    "\n",
    "Focusing on intergenerational family literature as the narrative mainline, the author explores topics such as immigration and identity, modern East Asian history, women and LGBTQ groups, games, and the sex industry. Due to the abundance of elements, some plot developments may seem insufficiently expanded, especially in the latter part of the book.\n",
    "\n",
    "Another aspect that troubled me during the reading process is the author's portrayal of women's appearance and physique, which seems to carry a male gaze. Of course, this may be a deliberate choice to reflect a common societal perspective on women. However, this contradicts the book's overall gentle and simple writing style.\n",
    "\n",
    "In summary, a rating of around 4.5.\n",
    "\"\"\"\n",
    "\n",
    "tts = gTTS(text, lang='en',tld='co.in')\n",
    "tts.save('pachinko_en.mp3')"
   ]
  },
  {
   "cell_type": "code",
   "execution_count": 23,
   "metadata": {},
   "outputs": [],
   "source": [
    "text = '驄馬鐵連錢，長安俠少年。帝畿平若水，官路直如弦。夜玉妝車軸，秋金鑄馬鞭。風霜但自保，窮達任皇天。'\n",
    "\n",
    "tts = gTTS(text, lang='zh-CN')\n",
    "tts.save('唐诗.mp3')"
   ]
  },
  {
   "cell_type": "code",
   "execution_count": 242,
   "metadata": {},
   "outputs": [],
   "source": [
    "tts = gTTS('''\n",
    "           ara faijuma,aba hua-ja-ha.\n",
    "           wakha o-chi ay, ee-noo moojang-ga\n",
    "           ooshiha oron, thoo-her-ke booya\n",
    "           gari mari khai, booroo bara ya.\n",
    "           ''', lang='en',tld='co.in')\n",
    "tts.save('manchu_poem1.mp3')"
   ]
  },
  {
   "cell_type": "code",
   "execution_count": 3,
   "metadata": {},
   "outputs": [],
   "source": [
    "tts = gTTS('''\n",
    "           nyalma sum-mub ban-jee-fee, sul-laa-ra fon oo-doo ni.\n",
    "           sai-in goochoo ah-chama, a lum-mee-laa lowluckee.\n",
    "           thang-goo aa-nia bee-laa-gaan, jah-loo khang-gah yah whachee.\n",
    "           oojoo ma-ree-russhi-dun, joo-roo shooloo sharam-pee.\n",
    "           ''', lang='en',tld='co.in')\n",
    "tts.save('manchu_poem2.mp3')"
   ]
  },
  {
   "cell_type": "code",
   "execution_count": 20,
   "metadata": {},
   "outputs": [],
   "source": [
    "tts = gTTS('maanjui maafari aadali, mooseh sasa gaabtambi. shivah gisand, gaaf-tham sum', lang='en',tld='co.in')\n",
    "tts.save('manchu.mp3')"
   ]
  },
  {
   "cell_type": "code",
   "execution_count": 230,
   "metadata": {},
   "outputs": [],
   "source": [
    "tts = gTTS('buh-ri ni-roo buh bai-ta-la-ra er-duh-moo buh, garb-tahn some-bee. mahn-joo nyal-ma-ee oo-joo-ee o-yong-go err-duh-moo', lang='en',tld='co.in')\n",
    "tts.save('manchu2.mp3')"
   ]
  },
  {
   "cell_type": "code",
   "execution_count": 41,
   "metadata": {},
   "outputs": [],
   "source": [
    "tts = gTTS('dong-ji-chi, shi turh man-joo bit-huh ta-cheem-bee some-bee, oomershi sine, man-joo gi-soon ser-reng-guh, moo-say man-joo-sa-ee, oo-joo-ee oo-joo o-yong-go bai-ta!', lang='en',tld='co.in')\n",
    "tts.save('manchu4.mp3')"
   ]
  },
  {
   "cell_type": "code",
   "execution_count": 91,
   "metadata": {},
   "outputs": [],
   "source": [
    "tts = gTTS('don机器, 西特满珠bit贺，塔chim毕。屋么兮sine，满珠gee孙 色reng格', lang='zh-CN')\n",
    "tts.save('manchu5.mp3')"
   ]
  },
  {
   "cell_type": "code",
   "execution_count": 113,
   "metadata": {},
   "outputs": [],
   "source": [
    "tts = gTTS(' 懂机弃, 细 特 满主 bit赫 塔chim毕 sem比, 乌么细 sine! 满主 gi孙 色棱戈 ', lang='zh-TW')\n",
    "tts.save('manchu5.mp3')"
   ]
  },
  {
   "cell_type": "code",
   "execution_count": 19,
   "metadata": {},
   "outputs": [],
   "source": [
    "tts = gTTS('aa,a ee,o,oo,e. na-nun-nee-naw-noo-ne. kha-khuk-khi-khawk-khoo-khe. ga-gug-gi-gawg-goo-geh. laa-lah-lee-law-loo-leh', lang='en',tld='co.in')\n",
    "tts.save('manchu3.mp3')"
   ]
  },
  {
   "cell_type": "code",
   "execution_count": 142,
   "metadata": {},
   "outputs": [],
   "source": [
    "tts = gTTS('karr ke ki ko ku. ga,ge,gi,go,gu', lang='es',tld='us')\n",
    "tts.save('lang=es_tld=us.mp3')"
   ]
  },
  {
   "cell_type": "code",
   "execution_count": 114,
   "metadata": {},
   "outputs": [],
   "source": [
    "tts = gTTS('If you\\'re new to Google Cloud, create an account to evaluate how Text-to-Speech performs in real-world scenarios. ', lang='zh-TW')\n",
    "tts.save('1.mp3')"
   ]
  },
  {
   "cell_type": "code",
   "execution_count": null,
   "metadata": {},
   "outputs": [],
   "source": []
  },
  {
   "cell_type": "markdown",
   "metadata": {},
   "source": [
    "## using pyttsx3\n"
   ]
  },
  {
   "cell_type": "code",
   "execution_count": 96,
   "metadata": {},
   "outputs": [],
   "source": [
    "import pyttsx3\n",
    "\n",
    "# One time initialization\n",
    "engine = pyttsx3.init()\n",
    "\n",
    "# Set properties _before_ you add things to say\n",
    "engine.setProperty('rate', 150)    # Speed percent (can go over 100)\n",
    "engine.setProperty('volume', 0.9)  # Volume 0-1\n",
    "\n",
    "# Queue up things to say.\n",
    "# There will be a short break between each one\n",
    "# when spoken, like a pause between sentences.\n",
    "engine.say(\"You've got mail!\")\n",
    "engine.say(\"You can queue up multiple items\")\n",
    "\n",
    "# Flush the say() queue and play the audio\n",
    "engine.runAndWait()"
   ]
  },
  {
   "cell_type": "code",
   "execution_count": 97,
   "metadata": {},
   "outputs": [
    {
     "name": "stdout",
     "output_type": "stream",
     "text": [
      "Voice:\n",
      " - ID: HKEY_LOCAL_MACHINE\\SOFTWARE\\Microsoft\\Speech\\Voices\\Tokens\\TTS_MS_EN-US_DAVID_11.0\n",
      " - Name: Microsoft David Desktop - English (United States)\n",
      " - Languages: []\n",
      " - Gender: None\n",
      " - Age: None\n",
      "Voice:\n",
      " - ID: HKEY_LOCAL_MACHINE\\SOFTWARE\\Microsoft\\Speech\\Voices\\Tokens\\TTS_MS_DE-DE_HEDDA_11.0\n",
      " - Name: Microsoft Hedda Desktop - German\n",
      " - Languages: []\n",
      " - Gender: None\n",
      " - Age: None\n",
      "Voice:\n",
      " - ID: HKEY_LOCAL_MACHINE\\SOFTWARE\\Microsoft\\Speech\\Voices\\Tokens\\TTS_MS_EN-US_ZIRA_11.0\n",
      " - Name: Microsoft Zira Desktop - English (United States)\n",
      " - Languages: []\n",
      " - Gender: None\n",
      " - Age: None\n",
      "Voice:\n",
      " - ID: HKEY_LOCAL_MACHINE\\SOFTWARE\\Microsoft\\Speech\\Voices\\Tokens\\TTS_MS_ZH-CN_HUIHUI_11.0\n",
      " - Name: Microsoft Huihui Desktop - Chinese (Simplified)\n",
      " - Languages: []\n",
      " - Gender: None\n",
      " - Age: None\n"
     ]
    }
   ],
   "source": [
    "voices = engine.getProperty('voices')\n",
    "for voice in voices:\n",
    "    print(\"Voice:\")\n",
    "    print(\" - ID: %s\" % voice.id)\n",
    "    print(\" - Name: %s\" % voice.name)\n",
    "    print(\" - Languages: %s\" % voice.languages)\n",
    "    print(\" - Gender: %s\" % voice.gender)\n",
    "    print(\" - Age: %s\" % voice.age)"
   ]
  },
  {
   "cell_type": "markdown",
   "metadata": {},
   "source": [
    "## using espeak"
   ]
  },
  {
   "cell_type": "code",
   "execution_count": 3,
   "metadata": {},
   "outputs": [
    {
     "ename": "ModuleNotFoundError",
     "evalue": "No module named 'espeak'",
     "output_type": "error",
     "traceback": [
      "\u001b[1;31m---------------------------------------------------------------------------\u001b[0m",
      "\u001b[1;31mModuleNotFoundError\u001b[0m                       Traceback (most recent call last)",
      "Cell \u001b[1;32mIn[3], line 1\u001b[0m\n\u001b[1;32m----> 1\u001b[0m \u001b[38;5;28;01mimport\u001b[39;00m \u001b[38;5;21;01mespeak\u001b[39;00m\n\u001b[0;32m      2\u001b[0m espeak\u001b[38;5;241m.\u001b[39minit()\n\u001b[0;32m      3\u001b[0m speaker \u001b[38;5;241m=\u001b[39m espeak\u001b[38;5;241m.\u001b[39mEspeak()\n",
      "\u001b[1;31mModuleNotFoundError\u001b[0m: No module named 'espeak'"
     ]
    }
   ],
   "source": [
    "import espeak\n",
    "espeak.init()\n",
    "speaker = espeak.Espeak()\n",
    "speaker.say(\"Hello world\")\n",
    "speaker.rate = 300\n",
    "speaker.say(\"Faster hello world\")"
   ]
  }
 ],
 "metadata": {
  "kernelspec": {
   "display_name": "base",
   "language": "python",
   "name": "python3"
  },
  "language_info": {
   "codemirror_mode": {
    "name": "ipython",
    "version": 3
   },
   "file_extension": ".py",
   "mimetype": "text/x-python",
   "name": "python",
   "nbconvert_exporter": "python",
   "pygments_lexer": "ipython3",
   "version": "3.8.5"
  }
 },
 "nbformat": 4,
 "nbformat_minor": 2
}
